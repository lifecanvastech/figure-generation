{
 "cells": [
  {
   "cell_type": "markdown",
   "metadata": {},
   "source": [
    "# Import Packages"
   ]
  },
  {
   "cell_type": "code",
   "execution_count": null,
   "metadata": {},
   "outputs": [],
   "source": [
    "import pandas as pd\n",
    "import matplotlib.pyplot as plt\n",
    "from matplotlib import rcParams\n",
    "import seaborn as sns\n",
    "\n",
    "# Required to get logo overlay to be correctly positioned when saving file\n",
    "rcParams.update({'figure.autolayout': True})"
   ]
  },
  {
   "cell_type": "markdown",
   "metadata": {},
   "source": [
    "# Input Parameters"
   ]
  },
  {
   "cell_type": "code",
   "execution_count": null,
   "metadata": {},
   "outputs": [],
   "source": [
    "# Generated cell counts or intensities file\n",
    "input_regions_file = \"cell_counts_level-2_sym.csv\"\n",
    "\n",
    "# Region-specific metric columns\n",
    "# Use \"density\" for cell counts, \"mean_intensity\" for intensities\n",
    "# For eflash-generated region-specific metrics, \"region\" should be other column\n",
    "# Switching metric and labelled columns will reverse orientation of graph (e.g. horizontal to vertical)\n",
    "x_column_name = \"density\" \n",
    "y_column_name = \"region\"\n",
    "\n",
    "# Name of column containing numeric data\n",
    "numeric_column = \"density\"\n",
    "\n",
    "# Optional multiplicative correction to numeric column data\n",
    "# EFLASH-generation assumes 10 um annotation; \n",
    "# If using eflash and 25 um annotation, use `column_multiplier = 2.5*2.5*2.5`\n",
    "column_multiplier = (2.5*2.5*2.5) \n",
    "\n",
    "# How many bars to generate\n",
    "n_regions = 14 "
   ]
  },
  {
   "cell_type": "code",
   "execution_count": null,
   "metadata": {},
   "outputs": [],
   "source": [
    "# Parses input and input parameters, wrangles into proper format for bar graph generation\n",
    "\n",
    "# Read region-specific metric file (e.g. cell counts or intensities) and selects data\n",
    "cell_counts = (pd.read_csv(input_regions_file)                 # Read CSV file\n",
    "                 .drop(0)                                      # Drop ID column\n",
    "                 .sort_values(numeric_column, ascending=False)  # Sort by descending metric (e.g. cell counts)\n",
    "                 .head(n_regions))                             # Take top `n_regions` regions\n",
    "\n",
    "# Select regions and metric columns\n",
    "cell_counts = cell_counts[[y_column_name, x_column_name]]\n",
    "\n",
    "# Correct metric by factor of `column_multiplier`\n",
    "cell_counts[numeric_column] *= column_multiplier\n",
    "\n",
    "# Modify region names to title case for aesthetics\n",
    "cell_counts[y_column_name] = cell_counts[y_column_name].str.title()\n",
    "\n",
    "# Print resulting data for validation\n",
    "cell_counts"
   ]
  },
  {
   "cell_type": "markdown",
   "metadata": {},
   "source": [
    "# Figure Parameters"
   ]
  },
  {
   "cell_type": "code",
   "execution_count": null,
   "metadata": {},
   "outputs": [],
   "source": [
    "# Figure size (format: [width, height])\n",
    "fig_size = [20, 12]\n",
    "\n",
    "# Title parameters\n",
    "plot_title = \"Cell Densities by Brain Region\"\n",
    "title_fontsize = 36     # Title font size\n",
    "title_padding = 24      # Space between title and rest of figure\n",
    "\n",
    "# y-axis parameters\n",
    "y_label = \"Region\"      # y-axis title\n",
    "y_fontsize = 36         # y-axis title font size\n",
    "y_padding = 24          # Space between y-axis title and rest of figure\n",
    "y_ticksize = 22         # Font size of y-axis numerical labels\n",
    "\n",
    "# x-axis parameters\n",
    "x_label = \"Density (cells per $mm^3$)\"    # x-axis title\n",
    "x_fontsize = 32                           # x-axis title font size\n",
    "x_padding = 12                            # Space between x-axis title and rest of figure\n",
    "x_ticksize = 24                           # Font size of x-axis numerical labels\n",
    "\n",
    "# Bar color palette base color, default results in LCT-style colors\n",
    "base_color = \"#19aae3\"\n",
    "\n",
    "# Logo parameters\n",
    "logo_filepath = \"../logos/lctlogo2_140.png\"   # Leave as empty string if no logo desired\n",
    "logo_position = [900, 110]                    # Format: [offset from left, offset from bottom]\n",
    "\n",
    "# Output file parameters, leave as empty string (i.e. \"\") if no graph saving desired\n",
    "output_filepath = \"graph.png\""
   ]
  },
  {
   "cell_type": "markdown",
   "metadata": {},
   "source": [
    "# Generate Figure"
   ]
  },
  {
   "cell_type": "code",
   "execution_count": null,
   "metadata": {},
   "outputs": [],
   "source": [
    "# Selects color palette\n",
    "pal = sns.light_palette(base_color, n_colors=n_regions, reverse=True)\n",
    "\n",
    "# Opens empty figure\n",
    "fig, ax = plt.subplots(figsize=fig_size)\n",
    "\n",
    "# Creates basic, default seaborn barplot\n",
    "sns.barplot(x=x_column_name,\n",
    "            y=y_column_name,\n",
    "            data=cell_counts,\n",
    "            palette=pal,\n",
    "            ax=ax)\n",
    "\n",
    "# Sets title to specified parameters\n",
    "ax.axes.set_title(plot_title, fontsize=title_fontsize, pad=title_padding)\n",
    "\n",
    "# Sets y-axis to specified parameters\n",
    "ax.set_ylabel(y_label, fontsize=y_fontsize, labelpad=y_padding)\n",
    "ax.tick_params(axis=\"y\", labelsize=y_ticksize)\n",
    "\n",
    "# Sets x-axis to specified parameters\n",
    "ax.set_xlabel(x_label, fontsize=x_fontsize, labelpad=x_padding)\n",
    "ax.tick_params(axis=\"x\", labelsize=x_ticksize)\n",
    "\n",
    "# Adds logo to figure, if specified\n",
    "if logo_filepath:\n",
    "    logo = plt.imread(logo_filepath)\n",
    "    fig.figimage(logo, logo_position[0], logo_position[1])\n",
    "\n",
    "# Saves figure, if specified\n",
    "if output_filepath:\n",
    "    plt.savefig(output_filepath)\n",
    "\n",
    "plt.show()"
   ]
  }
 ],
 "metadata": {
  "kernelspec": {
   "display_name": "Python [conda env:eflash] *",
   "language": "python",
   "name": "conda-env-eflash-py"
  },
  "language_info": {
   "codemirror_mode": {
    "name": "ipython",
    "version": 3
   },
   "file_extension": ".py",
   "mimetype": "text/x-python",
   "name": "python",
   "nbconvert_exporter": "python",
   "pygments_lexer": "ipython3",
   "version": "3.7.3"
  }
 },
 "nbformat": 4,
 "nbformat_minor": 2
}
